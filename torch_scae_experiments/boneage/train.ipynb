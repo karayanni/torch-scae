{
 "cells": [
  {
   "cell_type": "code",
   "execution_count": 1,
   "metadata": {
    "colab": {},
    "colab_type": "code",
    "id": "GhA7_OSnk3OP"
   },
   "outputs": [],
   "source": [
    "#%%shell\n",
    "\n",
    "#rm -rf ./torch-scae\n",
    "#git clone https://github.com/bdsaglam/torch-scae\n",
    "#cd ./torch-scae\n",
    "#pip install -q ."
   ]
  },
  {
   "cell_type": "code",
   "execution_count": 2,
   "metadata": {
    "colab": {},
    "colab_type": "code",
    "id": "-sPIju7iqTke"
   },
   "outputs": [
    {
     "name": "stderr",
     "output_type": "stream",
     "text": [
      "The syntax of the command is incorrect.\n"
     ]
    },
    {
     "data": {
      "text/plain": [
       "Launching TensorBoard..."
      ]
     },
     "metadata": {},
     "output_type": "display_data"
    },
    {
     "ename": "KeyboardInterrupt",
     "evalue": "",
     "output_type": "error",
     "traceback": [
      "\u001b[1;31m---------------------------------------------------------------------------\u001b[0m",
      "\u001b[1;31mKeyboardInterrupt\u001b[0m                         Traceback (most recent call last)",
      "\u001b[1;32m<ipython-input-2-266d62130da8>\u001b[0m in \u001b[0;36m<module>\u001b[1;34m\u001b[0m\n\u001b[0;32m      2\u001b[0m \u001b[1;33m\u001b[0m\u001b[0m\n\u001b[0;32m      3\u001b[0m \u001b[0mget_ipython\u001b[0m\u001b[1;33m(\u001b[0m\u001b[1;33m)\u001b[0m\u001b[1;33m.\u001b[0m\u001b[0msystem\u001b[0m\u001b[1;33m(\u001b[0m\u001b[1;34m'mkdir /content/lightning_logs'\u001b[0m\u001b[1;33m)\u001b[0m\u001b[1;33m\u001b[0m\u001b[1;33m\u001b[0m\u001b[0m\n\u001b[1;32m----> 4\u001b[1;33m \u001b[0mget_ipython\u001b[0m\u001b[1;33m(\u001b[0m\u001b[1;33m)\u001b[0m\u001b[1;33m.\u001b[0m\u001b[0mrun_line_magic\u001b[0m\u001b[1;33m(\u001b[0m\u001b[1;34m'tensorboard'\u001b[0m\u001b[1;33m,\u001b[0m \u001b[1;34m\"--logdir '/content/lightning_logs'\"\u001b[0m\u001b[1;33m)\u001b[0m\u001b[1;33m\u001b[0m\u001b[1;33m\u001b[0m\u001b[0m\n\u001b[0m",
      "\u001b[1;32m~\\Anaconda3\\envs\\cs236781-proj\\lib\\site-packages\\IPython\\core\\interactiveshell.py\u001b[0m in \u001b[0;36mrun_line_magic\u001b[1;34m(self, magic_name, line, _stack_depth)\u001b[0m\n\u001b[0;32m   2324\u001b[0m                 \u001b[0mkwargs\u001b[0m\u001b[1;33m[\u001b[0m\u001b[1;34m'local_ns'\u001b[0m\u001b[1;33m]\u001b[0m \u001b[1;33m=\u001b[0m \u001b[0msys\u001b[0m\u001b[1;33m.\u001b[0m\u001b[0m_getframe\u001b[0m\u001b[1;33m(\u001b[0m\u001b[0mstack_depth\u001b[0m\u001b[1;33m)\u001b[0m\u001b[1;33m.\u001b[0m\u001b[0mf_locals\u001b[0m\u001b[1;33m\u001b[0m\u001b[1;33m\u001b[0m\u001b[0m\n\u001b[0;32m   2325\u001b[0m             \u001b[1;32mwith\u001b[0m \u001b[0mself\u001b[0m\u001b[1;33m.\u001b[0m\u001b[0mbuiltin_trap\u001b[0m\u001b[1;33m:\u001b[0m\u001b[1;33m\u001b[0m\u001b[1;33m\u001b[0m\u001b[0m\n\u001b[1;32m-> 2326\u001b[1;33m                 \u001b[0mresult\u001b[0m \u001b[1;33m=\u001b[0m \u001b[0mfn\u001b[0m\u001b[1;33m(\u001b[0m\u001b[1;33m*\u001b[0m\u001b[0margs\u001b[0m\u001b[1;33m,\u001b[0m \u001b[1;33m**\u001b[0m\u001b[0mkwargs\u001b[0m\u001b[1;33m)\u001b[0m\u001b[1;33m\u001b[0m\u001b[1;33m\u001b[0m\u001b[0m\n\u001b[0m\u001b[0;32m   2327\u001b[0m             \u001b[1;32mreturn\u001b[0m \u001b[0mresult\u001b[0m\u001b[1;33m\u001b[0m\u001b[1;33m\u001b[0m\u001b[0m\n\u001b[0;32m   2328\u001b[0m \u001b[1;33m\u001b[0m\u001b[0m\n",
      "\u001b[1;32m~\\Anaconda3\\envs\\cs236781-proj\\lib\\site-packages\\tensorboard\\notebook.py\u001b[0m in \u001b[0;36m_start_magic\u001b[1;34m(line)\u001b[0m\n\u001b[0;32m    126\u001b[0m \u001b[1;32mdef\u001b[0m \u001b[0m_start_magic\u001b[0m\u001b[1;33m(\u001b[0m\u001b[0mline\u001b[0m\u001b[1;33m)\u001b[0m\u001b[1;33m:\u001b[0m\u001b[1;33m\u001b[0m\u001b[1;33m\u001b[0m\u001b[0m\n\u001b[0;32m    127\u001b[0m     \u001b[1;34m\"\"\"Implementation of the `%tensorboard` line magic.\"\"\"\u001b[0m\u001b[1;33m\u001b[0m\u001b[1;33m\u001b[0m\u001b[0m\n\u001b[1;32m--> 128\u001b[1;33m     \u001b[1;32mreturn\u001b[0m \u001b[0mstart\u001b[0m\u001b[1;33m(\u001b[0m\u001b[0mline\u001b[0m\u001b[1;33m)\u001b[0m\u001b[1;33m\u001b[0m\u001b[1;33m\u001b[0m\u001b[0m\n\u001b[0m\u001b[0;32m    129\u001b[0m \u001b[1;33m\u001b[0m\u001b[0m\n\u001b[0;32m    130\u001b[0m \u001b[1;33m\u001b[0m\u001b[0m\n",
      "\u001b[1;32m~\\Anaconda3\\envs\\cs236781-proj\\lib\\site-packages\\tensorboard\\notebook.py\u001b[0m in \u001b[0;36mstart\u001b[1;34m(args_string)\u001b[0m\n\u001b[0;32m    160\u001b[0m \u001b[1;33m\u001b[0m\u001b[0m\n\u001b[0;32m    161\u001b[0m     \u001b[0mparsed_args\u001b[0m \u001b[1;33m=\u001b[0m \u001b[0mshlex\u001b[0m\u001b[1;33m.\u001b[0m\u001b[0msplit\u001b[0m\u001b[1;33m(\u001b[0m\u001b[0margs_string\u001b[0m\u001b[1;33m,\u001b[0m \u001b[0mcomments\u001b[0m\u001b[1;33m=\u001b[0m\u001b[1;32mTrue\u001b[0m\u001b[1;33m,\u001b[0m \u001b[0mposix\u001b[0m\u001b[1;33m=\u001b[0m\u001b[1;32mTrue\u001b[0m\u001b[1;33m)\u001b[0m\u001b[1;33m\u001b[0m\u001b[1;33m\u001b[0m\u001b[0m\n\u001b[1;32m--> 162\u001b[1;33m     \u001b[0mstart_result\u001b[0m \u001b[1;33m=\u001b[0m \u001b[0mmanager\u001b[0m\u001b[1;33m.\u001b[0m\u001b[0mstart\u001b[0m\u001b[1;33m(\u001b[0m\u001b[0mparsed_args\u001b[0m\u001b[1;33m)\u001b[0m\u001b[1;33m\u001b[0m\u001b[1;33m\u001b[0m\u001b[0m\n\u001b[0m\u001b[0;32m    163\u001b[0m \u001b[1;33m\u001b[0m\u001b[0m\n\u001b[0;32m    164\u001b[0m     \u001b[1;32mif\u001b[0m \u001b[0misinstance\u001b[0m\u001b[1;33m(\u001b[0m\u001b[0mstart_result\u001b[0m\u001b[1;33m,\u001b[0m \u001b[0mmanager\u001b[0m\u001b[1;33m.\u001b[0m\u001b[0mStartLaunched\u001b[0m\u001b[1;33m)\u001b[0m\u001b[1;33m:\u001b[0m\u001b[1;33m\u001b[0m\u001b[1;33m\u001b[0m\u001b[0m\n",
      "\u001b[1;32m~\\Anaconda3\\envs\\cs236781-proj\\lib\\site-packages\\tensorboard\\manager.py\u001b[0m in \u001b[0;36mstart\u001b[1;34m(arguments, timeout)\u001b[0m\n\u001b[0;32m    423\u001b[0m     \u001b[0mend_time_seconds\u001b[0m \u001b[1;33m=\u001b[0m \u001b[0mstart_time_seconds\u001b[0m \u001b[1;33m+\u001b[0m \u001b[0mtimeout\u001b[0m\u001b[1;33m.\u001b[0m\u001b[0mtotal_seconds\u001b[0m\u001b[1;33m(\u001b[0m\u001b[1;33m)\u001b[0m\u001b[1;33m\u001b[0m\u001b[1;33m\u001b[0m\u001b[0m\n\u001b[0;32m    424\u001b[0m     \u001b[1;32mwhile\u001b[0m \u001b[0mtime\u001b[0m\u001b[1;33m.\u001b[0m\u001b[0mtime\u001b[0m\u001b[1;33m(\u001b[0m\u001b[1;33m)\u001b[0m \u001b[1;33m<\u001b[0m \u001b[0mend_time_seconds\u001b[0m\u001b[1;33m:\u001b[0m\u001b[1;33m\u001b[0m\u001b[1;33m\u001b[0m\u001b[0m\n\u001b[1;32m--> 425\u001b[1;33m         \u001b[0mtime\u001b[0m\u001b[1;33m.\u001b[0m\u001b[0msleep\u001b[0m\u001b[1;33m(\u001b[0m\u001b[0mpoll_interval_seconds\u001b[0m\u001b[1;33m)\u001b[0m\u001b[1;33m\u001b[0m\u001b[1;33m\u001b[0m\u001b[0m\n\u001b[0m\u001b[0;32m    426\u001b[0m         \u001b[0msubprocess_result\u001b[0m \u001b[1;33m=\u001b[0m \u001b[0mp\u001b[0m\u001b[1;33m.\u001b[0m\u001b[0mpoll\u001b[0m\u001b[1;33m(\u001b[0m\u001b[1;33m)\u001b[0m\u001b[1;33m\u001b[0m\u001b[1;33m\u001b[0m\u001b[0m\n\u001b[0;32m    427\u001b[0m         \u001b[1;32mif\u001b[0m \u001b[0msubprocess_result\u001b[0m \u001b[1;32mis\u001b[0m \u001b[1;32mnot\u001b[0m \u001b[1;32mNone\u001b[0m\u001b[1;33m:\u001b[0m\u001b[1;33m\u001b[0m\u001b[1;33m\u001b[0m\u001b[0m\n",
      "\u001b[1;31mKeyboardInterrupt\u001b[0m: "
     ]
    }
   ],
   "source": [
    "%load_ext tensorboard\n",
    "\n",
    "!mkdir /content/lightning_logs\n",
    "%tensorboard --logdir '/content/lightning_logs'"
   ]
  },
  {
   "cell_type": "code",
   "execution_count": 1,
   "metadata": {
    "colab": {},
    "colab_type": "code",
    "id": "dt4NYPbMB9Hw"
   },
   "outputs": [
    {
     "data": {
      "text/plain": [
       "42"
      ]
     },
     "execution_count": 1,
     "metadata": {},
     "output_type": "execute_result"
    }
   ],
   "source": [
    "import pathlib\n",
    "\n",
    "import numpy as np\n",
    "import torch\n",
    "import torchvision\n",
    "from torch_scae_experiments.boneage.train import train\n",
    "from torch_scae_experiments.boneage.hparams import model_params\n",
    "from pytorch_lightning import seed_everything\n",
    "\n",
    "seed_everything(42)"
   ]
  },
  {
   "cell_type": "code",
   "execution_count": 2,
   "metadata": {
    "colab": {},
    "colab_type": "code",
    "id": "3wTKz0LFC7KA"
   },
   "outputs": [
    {
     "name": "stdout",
     "output_type": "stream",
     "text": [
      "{'image_shape': (3, 256, 256),\n",
      " 'n_classes': 1,\n",
      " 'n_obj_caps': 16,\n",
      " 'n_part_caps': 30,\n",
      " 'ocae_decoder_capsule_params': {'allow_deformations': True,\n",
      "                                 'caps_dropout_rate': 0.0,\n",
      "                                 'dim_caps': 32,\n",
      "                                 'hidden_sizes': (128,),\n",
      "                                 'learn_vote_scale': True,\n",
      "                                 'noise_scale': 4.0,\n",
      "                                 'noise_type': 'uniform',\n",
      "                                 'similarity_transform': False},\n",
      " 'ocae_encoder_set_transformer_params': {'dim_hidden': 16,\n",
      "                                         'dim_out': 256,\n",
      "                                         'layer_norm': True,\n",
      "                                         'n_heads': 1,\n",
      "                                         'n_layers': 3},\n",
      " 'pcae_cnn_encoder_params': {'activate_final': True,\n",
      "                             'kernel_sizes': [3, 3, 3, 3],\n",
      "                             'out_channels': [128, 128, 128, 128],\n",
      "                             'strides': [2, 2, 1, 1]},\n",
      " 'pcae_decoder_params': {'background_value': True,\n",
      "                         'learn_output_scale': False,\n",
      "                         'use_alpha_channel': True},\n",
      " 'pcae_encoder_params': {'n_poses': 6,\n",
      "                         'n_special_features': 16,\n",
      "                         'similarity_transform': False},\n",
      " 'pcae_template_generator_params': {'color_nonlin': 'sigmoid',\n",
      "                                    'colorize_templates': True,\n",
      "                                    'template_nonlin': 'sigmoid',\n",
      "                                    'template_size': (32, 32)},\n",
      " 'scae_params': {'caps_ll_weight': 1.0,\n",
      "                 'cpr_dynamic_reg_weight': 10,\n",
      "                 'posterior_between_example_sparsity_weight': 0.2,\n",
      "                 'posterior_sparsity_loss_type': 'entropy',\n",
      "                 'posterior_within_example_sparsity_weight': 0.7,\n",
      "                 'presence_type': 'enc',\n",
      "                 'prior_between_example_sparsity_weight': 0.35,\n",
      "                 'prior_sparsity_loss_type': 'l2',\n",
      "                 'prior_within_example_sparsity_weight': 2.0,\n",
      "                 'reconstruct_alternatives': False,\n",
      "                 'stop_grad_caps_input': True,\n",
      "                 'stop_grad_caps_target': True,\n",
      "                 'vote_type': 'enc'}}\n"
     ]
    }
   ],
   "source": [
    "from pprint import pprint\n",
    "\n",
    "pprint(model_params)"
   ]
  },
  {
   "cell_type": "code",
   "execution_count": 3,
   "metadata": {
    "colab": {},
    "colab_type": "code",
    "id": "ZR9HargqB3OE"
   },
   "outputs": [],
   "source": [
    "# Customize model parameters\n",
    "\n",
    "# model_params.update(dict(\n",
    "#     n_part_caps=36,\n",
    "#     n_obj_caps=10,\n",
    "#     pcae_template_generator_params=dict(\n",
    "#         template_size=(11, 11),\n",
    "#         template_nonlin='sigmoid',\n",
    "#         colorize_templates=False,\n",
    "#     ),\n",
    "#     scae_params=dict(\n",
    "#         posterior_sparsity_loss_type='entropy',\n",
    "#         posterior_within_example_sparsity_weight=1,\n",
    "#         posterior_between_example_sparsity_weight=1,\n",
    "#     )\n",
    "# ))"
   ]
  },
  {
   "cell_type": "code",
   "execution_count": 4,
   "metadata": {
    "colab": {},
    "colab_type": "code",
    "id": "3iywniQBukSp"
   },
   "outputs": [],
   "source": [
    "training_params = dict(\n",
    "    data_dir=str(pathlib.Path.home() / 'torch-scae/data/boneage'),\n",
    "    gpus=1,\n",
    "    batch_size=16,\n",
    "    num_workers=2,\n",
    "    max_epochs=100,\n",
    "    learning_rate=3e-5,\n",
    "    optimizer_type='RMSprop',\n",
    "    use_lr_scheduler=True,\n",
    "    lr_scheduler_decay_rate=0.997\n",
    ")"
   ]
  },
  {
   "cell_type": "code",
   "execution_count": 5,
   "metadata": {
    "colab": {},
    "colab_type": "code",
    "id": "sEQxMoM6xYSc",
    "scrolled": true
   },
   "outputs": [
    {
     "name": "stderr",
     "output_type": "stream",
     "text": [
      "GPU available: True, used: True\n",
      "No environment variable for node rank defined. Set as 0.\n",
      "CUDA_VISIBLE_DEVICES: [0]\n",
      "\n",
      "    | Name                                              | Type                      | Params\n",
      "--------------------------------------------------------------------------------------------\n",
      "0   | scae                                              | SCAE                      | 2 M   \n",
      "1   | scae.part_encoder                                 | CapsuleImageEncoder       | 984 K \n",
      "2   | scae.part_encoder.encoder                         | CNNEncoder                | 446 K \n",
      "3   | scae.part_encoder.encoder.network                 | Sequential                | 446 K \n",
      "4   | scae.part_encoder.encoder.network.0               | Conv2d                    | 3 K   \n",
      "5   | scae.part_encoder.encoder.network.1               | ReLU                      | 0     \n",
      "6   | scae.part_encoder.encoder.network.2               | Conv2d                    | 147 K \n",
      "7   | scae.part_encoder.encoder.network.3               | ReLU                      | 0     \n",
      "8   | scae.part_encoder.encoder.network.4               | Conv2d                    | 147 K \n",
      "9   | scae.part_encoder.encoder.network.5               | ReLU                      | 0     \n",
      "10  | scae.part_encoder.encoder.network.6               | Conv2d                    | 147 K \n",
      "11  | scae.part_encoder.encoder.network.7               | ReLU                      | 0     \n",
      "12  | scae.part_encoder.att_conv                        | Conv2d                    | 92 K  \n",
      "13  | scae.template_generator                           | TemplateGenerator         | 92 K  \n",
      "14  | scae.template_generator.templates_color_mlp       | Sequential                | 643   \n",
      "15  | scae.template_generator.templates_color_mlp.0     | Linear                    | 544   \n",
      "16  | scae.template_generator.templates_color_mlp.1     | ReLU                      | 0     \n",
      "17  | scae.template_generator.templates_color_mlp.2     | Linear                    | 99    \n",
      "18  | scae.template_generator.templates_color_mlp.3     | ReLU                      | 0     \n",
      "19  | scae.part_decoder                                 | TemplateBasedImageDecoder | 30 K  \n",
      "20  | scae.obj_encoder                                  | SetTransformer            | 325 K \n",
      "21  | scae.obj_encoder.fc1                              | Linear                    | 49 K  \n",
      "22  | scae.obj_encoder.sabs                             | ModuleList                | 4 K   \n",
      "23  | scae.obj_encoder.sabs.0                           | SAB                       | 1 K   \n",
      "24  | scae.obj_encoder.sabs.0.mab                       | MAB                       | 1 K   \n",
      "25  | scae.obj_encoder.sabs.0.mab.mqkv                  | MultiHeadQKVAttention     | 1 K   \n",
      "26  | scae.obj_encoder.sabs.0.mab.mqkv.q_projector      | Linear                    | 272   \n",
      "27  | scae.obj_encoder.sabs.0.mab.mqkv.k_projector      | Linear                    | 272   \n",
      "28  | scae.obj_encoder.sabs.0.mab.mqkv.v_projector      | Linear                    | 272   \n",
      "29  | scae.obj_encoder.sabs.0.mab.mqkv.o_projector      | Linear                    | 272   \n",
      "30  | scae.obj_encoder.sabs.0.mab.ln0                   | LayerNorm                 | 32    \n",
      "31  | scae.obj_encoder.sabs.0.mab.ln1                   | LayerNorm                 | 32    \n",
      "32  | scae.obj_encoder.sabs.0.mab.fc                    | Linear                    | 272   \n",
      "33  | scae.obj_encoder.sabs.1                           | SAB                       | 1 K   \n",
      "34  | scae.obj_encoder.sabs.1.mab                       | MAB                       | 1 K   \n",
      "35  | scae.obj_encoder.sabs.1.mab.mqkv                  | MultiHeadQKVAttention     | 1 K   \n",
      "36  | scae.obj_encoder.sabs.1.mab.mqkv.q_projector      | Linear                    | 272   \n",
      "37  | scae.obj_encoder.sabs.1.mab.mqkv.k_projector      | Linear                    | 272   \n",
      "38  | scae.obj_encoder.sabs.1.mab.mqkv.v_projector      | Linear                    | 272   \n",
      "39  | scae.obj_encoder.sabs.1.mab.mqkv.o_projector      | Linear                    | 272   \n",
      "40  | scae.obj_encoder.sabs.1.mab.ln0                   | LayerNorm                 | 32    \n",
      "41  | scae.obj_encoder.sabs.1.mab.ln1                   | LayerNorm                 | 32    \n",
      "42  | scae.obj_encoder.sabs.1.mab.fc                    | Linear                    | 272   \n",
      "43  | scae.obj_encoder.sabs.2                           | SAB                       | 1 K   \n",
      "44  | scae.obj_encoder.sabs.2.mab                       | MAB                       | 1 K   \n",
      "45  | scae.obj_encoder.sabs.2.mab.mqkv                  | MultiHeadQKVAttention     | 1 K   \n",
      "46  | scae.obj_encoder.sabs.2.mab.mqkv.q_projector      | Linear                    | 272   \n",
      "47  | scae.obj_encoder.sabs.2.mab.mqkv.k_projector      | Linear                    | 272   \n",
      "48  | scae.obj_encoder.sabs.2.mab.mqkv.v_projector      | Linear                    | 272   \n",
      "49  | scae.obj_encoder.sabs.2.mab.mqkv.o_projector      | Linear                    | 272   \n",
      "50  | scae.obj_encoder.sabs.2.mab.ln0                   | LayerNorm                 | 32    \n",
      "51  | scae.obj_encoder.sabs.2.mab.ln1                   | LayerNorm                 | 32    \n",
      "52  | scae.obj_encoder.sabs.2.mab.fc                    | Linear                    | 272   \n",
      "53  | scae.obj_encoder.fc2                              | Linear                    | 4 K   \n",
      "54  | scae.obj_encoder.multi_head_attention             | MultiHeadQKVAttention     | 263 K \n",
      "55  | scae.obj_encoder.multi_head_attention.q_projector | Linear                    | 65 K  \n",
      "56  | scae.obj_encoder.multi_head_attention.k_projector | Linear                    | 65 K  \n",
      "57  | scae.obj_encoder.multi_head_attention.v_projector | Linear                    | 65 K  \n",
      "58  | scae.obj_encoder.multi_head_attention.o_projector | Linear                    | 65 K  \n",
      "59  | scae.obj_decoder                                  | CapsuleObjectDecoder      | 1 M   \n",
      "60  | scae.obj_decoder.capsule_layer                    | CapsuleLayer              | 1 M   \n",
      "61  | scae.obj_decoder.capsule_layer.mlps               | ModuleList                | 592 K \n",
      "62  | scae.obj_decoder.capsule_layer.mlps.0             | Sequential                | 37 K  \n",
      "63  | scae.obj_decoder.capsule_layer.mlps.0.0           | Linear                    | 32 K  \n",
      "64  | scae.obj_decoder.capsule_layer.mlps.0.1           | ReLU                      | 0     \n",
      "65  | scae.obj_decoder.capsule_layer.mlps.0.2           | Linear                    | 4 K   \n",
      "66  | scae.obj_decoder.capsule_layer.mlps.0.3           | ReLU                      | 0     \n",
      "67  | scae.obj_decoder.capsule_layer.mlps.1             | Sequential                | 37 K  \n",
      "68  | scae.obj_decoder.capsule_layer.mlps.1.0           | Linear                    | 32 K  \n",
      "69  | scae.obj_decoder.capsule_layer.mlps.1.1           | ReLU                      | 0     \n",
      "70  | scae.obj_decoder.capsule_layer.mlps.1.2           | Linear                    | 4 K   \n",
      "71  | scae.obj_decoder.capsule_layer.mlps.1.3           | ReLU                      | 0     \n",
      "72  | scae.obj_decoder.capsule_layer.mlps.2             | Sequential                | 37 K  \n",
      "73  | scae.obj_decoder.capsule_layer.mlps.2.0           | Linear                    | 32 K  \n",
      "74  | scae.obj_decoder.capsule_layer.mlps.2.1           | ReLU                      | 0     \n",
      "75  | scae.obj_decoder.capsule_layer.mlps.2.2           | Linear                    | 4 K   \n",
      "76  | scae.obj_decoder.capsule_layer.mlps.2.3           | ReLU                      | 0     \n",
      "77  | scae.obj_decoder.capsule_layer.mlps.3             | Sequential                | 37 K  \n",
      "78  | scae.obj_decoder.capsule_layer.mlps.3.0           | Linear                    | 32 K  \n",
      "79  | scae.obj_decoder.capsule_layer.mlps.3.1           | ReLU                      | 0     \n",
      "80  | scae.obj_decoder.capsule_layer.mlps.3.2           | Linear                    | 4 K   \n",
      "81  | scae.obj_decoder.capsule_layer.mlps.3.3           | ReLU                      | 0     \n",
      "82  | scae.obj_decoder.capsule_layer.mlps.4             | Sequential                | 37 K  \n",
      "83  | scae.obj_decoder.capsule_layer.mlps.4.0           | Linear                    | 32 K  \n",
      "84  | scae.obj_decoder.capsule_layer.mlps.4.1           | ReLU                      | 0     \n",
      "85  | scae.obj_decoder.capsule_layer.mlps.4.2           | Linear                    | 4 K   \n",
      "86  | scae.obj_decoder.capsule_layer.mlps.4.3           | ReLU                      | 0     \n",
      "87  | scae.obj_decoder.capsule_layer.mlps.5             | Sequential                | 37 K  \n",
      "88  | scae.obj_decoder.capsule_layer.mlps.5.0           | Linear                    | 32 K  \n",
      "89  | scae.obj_decoder.capsule_layer.mlps.5.1           | ReLU                      | 0     \n",
      "90  | scae.obj_decoder.capsule_layer.mlps.5.2           | Linear                    | 4 K   \n",
      "91  | scae.obj_decoder.capsule_layer.mlps.5.3           | ReLU                      | 0     \n",
      "92  | scae.obj_decoder.capsule_layer.mlps.6             | Sequential                | 37 K  \n",
      "93  | scae.obj_decoder.capsule_layer.mlps.6.0           | Linear                    | 32 K  \n",
      "94  | scae.obj_decoder.capsule_layer.mlps.6.1           | ReLU                      | 0     \n",
      "95  | scae.obj_decoder.capsule_layer.mlps.6.2           | Linear                    | 4 K   \n",
      "96  | scae.obj_decoder.capsule_layer.mlps.6.3           | ReLU                      | 0     \n",
      "97  | scae.obj_decoder.capsule_layer.mlps.7             | Sequential                | 37 K  \n",
      "98  | scae.obj_decoder.capsule_layer.mlps.7.0           | Linear                    | 32 K  \n",
      "99  | scae.obj_decoder.capsule_layer.mlps.7.1           | ReLU                      | 0     \n",
      "100 | scae.obj_decoder.capsule_layer.mlps.7.2           | Linear                    | 4 K   \n",
      "101 | scae.obj_decoder.capsule_layer.mlps.7.3           | ReLU                      | 0     \n",
      "102 | scae.obj_decoder.capsule_layer.mlps.8             | Sequential                | 37 K  \n",
      "103 | scae.obj_decoder.capsule_layer.mlps.8.0           | Linear                    | 32 K  \n",
      "104 | scae.obj_decoder.capsule_layer.mlps.8.1           | ReLU                      | 0     \n",
      "105 | scae.obj_decoder.capsule_layer.mlps.8.2           | Linear                    | 4 K   \n",
      "106 | scae.obj_decoder.capsule_layer.mlps.8.3           | ReLU                      | 0     \n",
      "107 | scae.obj_decoder.capsule_layer.mlps.9             | Sequential                | 37 K  \n",
      "108 | scae.obj_decoder.capsule_layer.mlps.9.0           | Linear                    | 32 K  \n",
      "109 | scae.obj_decoder.capsule_layer.mlps.9.1           | ReLU                      | 0     \n",
      "110 | scae.obj_decoder.capsule_layer.mlps.9.2           | Linear                    | 4 K   \n",
      "111 | scae.obj_decoder.capsule_layer.mlps.9.3           | ReLU                      | 0     \n",
      "112 | scae.obj_decoder.capsule_layer.mlps.10            | Sequential                | 37 K  \n",
      "113 | scae.obj_decoder.capsule_layer.mlps.10.0          | Linear                    | 32 K  \n",
      "114 | scae.obj_decoder.capsule_layer.mlps.10.1          | ReLU                      | 0     \n",
      "115 | scae.obj_decoder.capsule_layer.mlps.10.2          | Linear                    | 4 K   \n",
      "116 | scae.obj_decoder.capsule_layer.mlps.10.3          | ReLU                      | 0     \n",
      "117 | scae.obj_decoder.capsule_layer.mlps.11            | Sequential                | 37 K  \n",
      "118 | scae.obj_decoder.capsule_layer.mlps.11.0          | Linear                    | 32 K  \n",
      "119 | scae.obj_decoder.capsule_layer.mlps.11.1          | ReLU                      | 0     \n",
      "120 | scae.obj_decoder.capsule_layer.mlps.11.2          | Linear                    | 4 K   \n",
      "121 | scae.obj_decoder.capsule_layer.mlps.11.3          | ReLU                      | 0     \n",
      "122 | scae.obj_decoder.capsule_layer.mlps.12            | Sequential                | 37 K  \n",
      "123 | scae.obj_decoder.capsule_layer.mlps.12.0          | Linear                    | 32 K  \n",
      "124 | scae.obj_decoder.capsule_layer.mlps.12.1          | ReLU                      | 0     \n",
      "125 | scae.obj_decoder.capsule_layer.mlps.12.2          | Linear                    | 4 K   \n",
      "126 | scae.obj_decoder.capsule_layer.mlps.12.3          | ReLU                      | 0     \n",
      "127 | scae.obj_decoder.capsule_layer.mlps.13            | Sequential                | 37 K  \n",
      "128 | scae.obj_decoder.capsule_layer.mlps.13.0          | Linear                    | 32 K  \n",
      "129 | scae.obj_decoder.capsule_layer.mlps.13.1          | ReLU                      | 0     \n",
      "130 | scae.obj_decoder.capsule_layer.mlps.13.2          | Linear                    | 4 K   \n",
      "131 | scae.obj_decoder.capsule_layer.mlps.13.3          | ReLU                      | 0     \n",
      "132 | scae.obj_decoder.capsule_layer.mlps.14            | Sequential                | 37 K  \n",
      "133 | scae.obj_decoder.capsule_layer.mlps.14.0          | Linear                    | 32 K  \n",
      "134 | scae.obj_decoder.capsule_layer.mlps.14.1          | ReLU                      | 0     \n",
      "135 | scae.obj_decoder.capsule_layer.mlps.14.2          | Linear                    | 4 K   \n",
      "136 | scae.obj_decoder.capsule_layer.mlps.14.3          | ReLU                      | 0     \n",
      "137 | scae.obj_decoder.capsule_layer.mlps.15            | Sequential                | 37 K  \n",
      "138 | scae.obj_decoder.capsule_layer.mlps.15.0          | Linear                    | 32 K  \n",
      "139 | scae.obj_decoder.capsule_layer.mlps.15.1          | ReLU                      | 0     \n",
      "140 | scae.obj_decoder.capsule_layer.mlps.15.2          | Linear                    | 4 K   \n",
      "141 | scae.obj_decoder.capsule_layer.mlps.15.3          | ReLU                      | 0     \n",
      "142 | scae.obj_decoder.capsule_layer.caps_mlps          | ModuleList                | 573 K \n",
      "143 | scae.obj_decoder.capsule_layer.caps_mlps.0        | Sequential                | 35 K  \n",
      "144 | scae.obj_decoder.capsule_layer.caps_mlps.0.0      | Linear                    | 4 K   \n",
      "145 | scae.obj_decoder.capsule_layer.caps_mlps.0.1      | ReLU                      | 0     \n",
      "146 | scae.obj_decoder.capsule_layer.caps_mlps.0.2      | Linear                    | 31 K  \n",
      "147 | scae.obj_decoder.capsule_layer.caps_mlps.0.3      | ReLU                      | 0     \n",
      "148 | scae.obj_decoder.capsule_layer.caps_mlps.1        | Sequential                | 35 K  \n",
      "149 | scae.obj_decoder.capsule_layer.caps_mlps.1.0      | Linear                    | 4 K   \n",
      "150 | scae.obj_decoder.capsule_layer.caps_mlps.1.1      | ReLU                      | 0     \n",
      "151 | scae.obj_decoder.capsule_layer.caps_mlps.1.2      | Linear                    | 31 K  \n",
      "152 | scae.obj_decoder.capsule_layer.caps_mlps.1.3      | ReLU                      | 0     \n",
      "153 | scae.obj_decoder.capsule_layer.caps_mlps.2        | Sequential                | 35 K  \n",
      "154 | scae.obj_decoder.capsule_layer.caps_mlps.2.0      | Linear                    | 4 K   \n",
      "155 | scae.obj_decoder.capsule_layer.caps_mlps.2.1      | ReLU                      | 0     \n",
      "156 | scae.obj_decoder.capsule_layer.caps_mlps.2.2      | Linear                    | 31 K  \n",
      "157 | scae.obj_decoder.capsule_layer.caps_mlps.2.3      | ReLU                      | 0     \n",
      "158 | scae.obj_decoder.capsule_layer.caps_mlps.3        | Sequential                | 35 K  \n",
      "159 | scae.obj_decoder.capsule_layer.caps_mlps.3.0      | Linear                    | 4 K   \n",
      "160 | scae.obj_decoder.capsule_layer.caps_mlps.3.1      | ReLU                      | 0     \n",
      "161 | scae.obj_decoder.capsule_layer.caps_mlps.3.2      | Linear                    | 31 K  \n",
      "162 | scae.obj_decoder.capsule_layer.caps_mlps.3.3      | ReLU                      | 0     \n",
      "163 | scae.obj_decoder.capsule_layer.caps_mlps.4        | Sequential                | 35 K  \n",
      "164 | scae.obj_decoder.capsule_layer.caps_mlps.4.0      | Linear                    | 4 K   \n",
      "165 | scae.obj_decoder.capsule_layer.caps_mlps.4.1      | ReLU                      | 0     \n",
      "166 | scae.obj_decoder.capsule_layer.caps_mlps.4.2      | Linear                    | 31 K  \n",
      "167 | scae.obj_decoder.capsule_layer.caps_mlps.4.3      | ReLU                      | 0     \n",
      "168 | scae.obj_decoder.capsule_layer.caps_mlps.5        | Sequential                | 35 K  \n",
      "169 | scae.obj_decoder.capsule_layer.caps_mlps.5.0      | Linear                    | 4 K   \n",
      "170 | scae.obj_decoder.capsule_layer.caps_mlps.5.1      | ReLU                      | 0     \n",
      "171 | scae.obj_decoder.capsule_layer.caps_mlps.5.2      | Linear                    | 31 K  \n",
      "172 | scae.obj_decoder.capsule_layer.caps_mlps.5.3      | ReLU                      | 0     \n",
      "173 | scae.obj_decoder.capsule_layer.caps_mlps.6        | Sequential                | 35 K  \n",
      "174 | scae.obj_decoder.capsule_layer.caps_mlps.6.0      | Linear                    | 4 K   \n",
      "175 | scae.obj_decoder.capsule_layer.caps_mlps.6.1      | ReLU                      | 0     \n",
      "176 | scae.obj_decoder.capsule_layer.caps_mlps.6.2      | Linear                    | 31 K  \n",
      "177 | scae.obj_decoder.capsule_layer.caps_mlps.6.3      | ReLU                      | 0     \n",
      "178 | scae.obj_decoder.capsule_layer.caps_mlps.7        | Sequential                | 35 K  \n",
      "179 | scae.obj_decoder.capsule_layer.caps_mlps.7.0      | Linear                    | 4 K   \n",
      "180 | scae.obj_decoder.capsule_layer.caps_mlps.7.1      | ReLU                      | 0     \n",
      "181 | scae.obj_decoder.capsule_layer.caps_mlps.7.2      | Linear                    | 31 K  \n",
      "182 | scae.obj_decoder.capsule_layer.caps_mlps.7.3      | ReLU                      | 0     \n",
      "183 | scae.obj_decoder.capsule_layer.caps_mlps.8        | Sequential                | 35 K  \n",
      "184 | scae.obj_decoder.capsule_layer.caps_mlps.8.0      | Linear                    | 4 K   \n",
      "185 | scae.obj_decoder.capsule_layer.caps_mlps.8.1      | ReLU                      | 0     \n",
      "186 | scae.obj_decoder.capsule_layer.caps_mlps.8.2      | Linear                    | 31 K  \n",
      "187 | scae.obj_decoder.capsule_layer.caps_mlps.8.3      | ReLU                      | 0     \n",
      "188 | scae.obj_decoder.capsule_layer.caps_mlps.9        | Sequential                | 35 K  \n",
      "189 | scae.obj_decoder.capsule_layer.caps_mlps.9.0      | Linear                    | 4 K   \n",
      "190 | scae.obj_decoder.capsule_layer.caps_mlps.9.1      | ReLU                      | 0     \n",
      "191 | scae.obj_decoder.capsule_layer.caps_mlps.9.2      | Linear                    | 31 K  \n",
      "192 | scae.obj_decoder.capsule_layer.caps_mlps.9.3      | ReLU                      | 0     \n",
      "193 | scae.obj_decoder.capsule_layer.caps_mlps.10       | Sequential                | 35 K  \n",
      "194 | scae.obj_decoder.capsule_layer.caps_mlps.10.0     | Linear                    | 4 K   \n",
      "195 | scae.obj_decoder.capsule_layer.caps_mlps.10.1     | ReLU                      | 0     \n",
      "196 | scae.obj_decoder.capsule_layer.caps_mlps.10.2     | Linear                    | 31 K  \n",
      "197 | scae.obj_decoder.capsule_layer.caps_mlps.10.3     | ReLU                      | 0     \n",
      "198 | scae.obj_decoder.capsule_layer.caps_mlps.11       | Sequential                | 35 K  \n",
      "199 | scae.obj_decoder.capsule_layer.caps_mlps.11.0     | Linear                    | 4 K   \n",
      "200 | scae.obj_decoder.capsule_layer.caps_mlps.11.1     | ReLU                      | 0     \n",
      "201 | scae.obj_decoder.capsule_layer.caps_mlps.11.2     | Linear                    | 31 K  \n",
      "202 | scae.obj_decoder.capsule_layer.caps_mlps.11.3     | ReLU                      | 0     \n",
      "203 | scae.obj_decoder.capsule_layer.caps_mlps.12       | Sequential                | 35 K  \n",
      "204 | scae.obj_decoder.capsule_layer.caps_mlps.12.0     | Linear                    | 4 K   \n",
      "205 | scae.obj_decoder.capsule_layer.caps_mlps.12.1     | ReLU                      | 0     \n",
      "206 | scae.obj_decoder.capsule_layer.caps_mlps.12.2     | Linear                    | 31 K  \n",
      "207 | scae.obj_decoder.capsule_layer.caps_mlps.12.3     | ReLU                      | 0     \n",
      "208 | scae.obj_decoder.capsule_layer.caps_mlps.13       | Sequential                | 35 K  \n",
      "209 | scae.obj_decoder.capsule_layer.caps_mlps.13.0     | Linear                    | 4 K   \n",
      "210 | scae.obj_decoder.capsule_layer.caps_mlps.13.1     | ReLU                      | 0     \n",
      "211 | scae.obj_decoder.capsule_layer.caps_mlps.13.2     | Linear                    | 31 K  \n",
      "212 | scae.obj_decoder.capsule_layer.caps_mlps.13.3     | ReLU                      | 0     \n",
      "213 | scae.obj_decoder.capsule_layer.caps_mlps.14       | Sequential                | 35 K  \n",
      "214 | scae.obj_decoder.capsule_layer.caps_mlps.14.0     | Linear                    | 4 K   \n",
      "215 | scae.obj_decoder.capsule_layer.caps_mlps.14.1     | ReLU                      | 0     \n",
      "216 | scae.obj_decoder.capsule_layer.caps_mlps.14.2     | Linear                    | 31 K  \n",
      "217 | scae.obj_decoder.capsule_layer.caps_mlps.14.3     | ReLU                      | 0     \n",
      "218 | scae.obj_decoder.capsule_layer.caps_mlps.15       | Sequential                | 35 K  \n",
      "219 | scae.obj_decoder.capsule_layer.caps_mlps.15.0     | Linear                    | 4 K   \n",
      "220 | scae.obj_decoder.capsule_layer.caps_mlps.15.1     | ReLU                      | 0     \n",
      "221 | scae.obj_decoder.capsule_layer.caps_mlps.15.2     | Linear                    | 31 K  \n",
      "222 | scae.obj_decoder.capsule_layer.caps_mlps.15.3     | ReLU                      | 0     \n",
      "223 | scae.obj_decoder.capsule_layer.caps_bias_list     | ParameterList             | 1 K   \n",
      "224 | scae.prior_classifier                             | Sequential                | 17    \n",
      "225 | scae.prior_classifier.0                           | Linear                    | 17    \n",
      "226 | scae.prior_classifier.1                           | Softmax                   | 0     \n",
      "227 | scae.posterior_classifier                         | Sequential                | 17    \n",
      "228 | scae.posterior_classifier.0                       | Linear                    | 17    \n",
      "229 | scae.posterior_classifier.1                       | Softmax                   | 0     \n"
     ]
    },
    {
     "data": {
      "application/vnd.jupyter.widget-view+json": {
       "model_id": "f76666a48361408b8a4a2df867cdc707",
       "version_major": 2,
       "version_minor": 0
      },
      "text/plain": [
       "HBox(children=(FloatProgress(value=1.0, bar_style='info', description='Validation sanity check', layout=Layout…"
      ]
     },
     "metadata": {},
     "output_type": "display_data"
    },
    {
     "ename": "RuntimeError",
     "evalue": "CUDA out of memory. Tried to allocate 372.00 MiB (GPU 0; 4.00 GiB total capacity; 2.10 GiB already allocated; 238.35 MiB free; 2.70 GiB reserved in total by PyTorch)",
     "output_type": "error",
     "traceback": [
      "\u001b[1;31m---------------------------------------------------------------------------\u001b[0m",
      "\u001b[1;31mRuntimeError\u001b[0m                              Traceback (most recent call last)",
      "\u001b[1;32m<ipython-input-5-2d9650b305a2>\u001b[0m in \u001b[0;36m<module>\u001b[1;34m\u001b[0m\n\u001b[0;32m      3\u001b[0m \u001b[0mtorch\u001b[0m\u001b[1;33m.\u001b[0m\u001b[0mcuda\u001b[0m\u001b[1;33m.\u001b[0m\u001b[0mreset_accumulated_memory_stats\u001b[0m\u001b[1;33m(\u001b[0m\u001b[1;33m)\u001b[0m\u001b[1;33m\u001b[0m\u001b[1;33m\u001b[0m\u001b[0m\n\u001b[0;32m      4\u001b[0m \u001b[1;33m\u001b[0m\u001b[0m\n\u001b[1;32m----> 5\u001b[1;33m \u001b[0mtrain\u001b[0m\u001b[1;33m(\u001b[0m\u001b[0mmodel_params\u001b[0m\u001b[1;33m,\u001b[0m \u001b[1;33m**\u001b[0m\u001b[0mtraining_params\u001b[0m\u001b[1;33m)\u001b[0m\u001b[1;33m\u001b[0m\u001b[1;33m\u001b[0m\u001b[0m\n\u001b[0m",
      "\u001b[1;32mc:\\users\\roy matza\\torch-scae\\torch_scae_experiments\\boneage\\train.py\u001b[0m in \u001b[0;36mtrain\u001b[1;34m(model_params, **training_kwargs)\u001b[0m\n\u001b[0;32m    293\u001b[0m \u001b[1;33m\u001b[0m\u001b[0m\n\u001b[0;32m    294\u001b[0m     \u001b[0mtrainer\u001b[0m \u001b[1;33m=\u001b[0m \u001b[0mTrainer\u001b[0m\u001b[1;33m(\u001b[0m\u001b[1;33m**\u001b[0m\u001b[0mtraining_params\u001b[0m\u001b[1;33m)\u001b[0m\u001b[1;33m\u001b[0m\u001b[1;33m\u001b[0m\u001b[0m\n\u001b[1;32m--> 295\u001b[1;33m     \u001b[0mtrainer\u001b[0m\u001b[1;33m.\u001b[0m\u001b[0mfit\u001b[0m\u001b[1;33m(\u001b[0m\u001b[0mmodel\u001b[0m\u001b[1;33m)\u001b[0m\u001b[1;33m\u001b[0m\u001b[1;33m\u001b[0m\u001b[0m\n\u001b[0m\u001b[0;32m    296\u001b[0m \u001b[1;33m\u001b[0m\u001b[0m\n\u001b[0;32m    297\u001b[0m \u001b[1;33m\u001b[0m\u001b[0m\n",
      "\u001b[1;32m~\\Anaconda3\\envs\\cs236781-proj\\lib\\site-packages\\pytorch_lightning\\trainer\\trainer.py\u001b[0m in \u001b[0;36mfit\u001b[1;34m(self, model, train_dataloader, val_dataloaders)\u001b[0m\n\u001b[0;32m    857\u001b[0m \u001b[1;33m\u001b[0m\u001b[0m\n\u001b[0;32m    858\u001b[0m         \u001b[1;32melif\u001b[0m \u001b[0mself\u001b[0m\u001b[1;33m.\u001b[0m\u001b[0msingle_gpu\u001b[0m\u001b[1;33m:\u001b[0m\u001b[1;33m\u001b[0m\u001b[1;33m\u001b[0m\u001b[0m\n\u001b[1;32m--> 859\u001b[1;33m             \u001b[0mself\u001b[0m\u001b[1;33m.\u001b[0m\u001b[0msingle_gpu_train\u001b[0m\u001b[1;33m(\u001b[0m\u001b[0mmodel\u001b[0m\u001b[1;33m)\u001b[0m\u001b[1;33m\u001b[0m\u001b[1;33m\u001b[0m\u001b[0m\n\u001b[0m\u001b[0;32m    860\u001b[0m \u001b[1;33m\u001b[0m\u001b[0m\n\u001b[0;32m    861\u001b[0m         \u001b[1;32melif\u001b[0m \u001b[0mself\u001b[0m\u001b[1;33m.\u001b[0m\u001b[0muse_tpu\u001b[0m\u001b[1;33m:\u001b[0m  \u001b[1;31m# pragma: no-cover\u001b[0m\u001b[1;33m\u001b[0m\u001b[1;33m\u001b[0m\u001b[0m\n",
      "\u001b[1;32m~\\Anaconda3\\envs\\cs236781-proj\\lib\\site-packages\\pytorch_lightning\\trainer\\distrib_parts.py\u001b[0m in \u001b[0;36msingle_gpu_train\u001b[1;34m(self, model)\u001b[0m\n\u001b[0;32m    501\u001b[0m             \u001b[0mself\u001b[0m\u001b[1;33m.\u001b[0m\u001b[0moptimizers\u001b[0m \u001b[1;33m=\u001b[0m \u001b[0moptimizers\u001b[0m\u001b[1;33m\u001b[0m\u001b[1;33m\u001b[0m\u001b[0m\n\u001b[0;32m    502\u001b[0m \u001b[1;33m\u001b[0m\u001b[0m\n\u001b[1;32m--> 503\u001b[1;33m         \u001b[0mself\u001b[0m\u001b[1;33m.\u001b[0m\u001b[0mrun_pretrain_routine\u001b[0m\u001b[1;33m(\u001b[0m\u001b[0mmodel\u001b[0m\u001b[1;33m)\u001b[0m\u001b[1;33m\u001b[0m\u001b[1;33m\u001b[0m\u001b[0m\n\u001b[0m\u001b[0;32m    504\u001b[0m \u001b[1;33m\u001b[0m\u001b[0m\n\u001b[0;32m    505\u001b[0m     \u001b[1;32mdef\u001b[0m \u001b[0mtpu_train\u001b[0m\u001b[1;33m(\u001b[0m\u001b[0mself\u001b[0m\u001b[1;33m,\u001b[0m \u001b[0mtpu_core_idx\u001b[0m\u001b[1;33m,\u001b[0m \u001b[0mmodel\u001b[0m\u001b[1;33m)\u001b[0m\u001b[1;33m:\u001b[0m\u001b[1;33m\u001b[0m\u001b[1;33m\u001b[0m\u001b[0m\n",
      "\u001b[1;32m~\\Anaconda3\\envs\\cs236781-proj\\lib\\site-packages\\pytorch_lightning\\trainer\\trainer.py\u001b[0m in \u001b[0;36mrun_pretrain_routine\u001b[1;34m(self, model)\u001b[0m\n\u001b[0;32m    996\u001b[0m             \u001b[0mself\u001b[0m\u001b[1;33m.\u001b[0m\u001b[0mon_sanity_check_start\u001b[0m\u001b[1;33m(\u001b[0m\u001b[1;33m)\u001b[0m\u001b[1;33m\u001b[0m\u001b[1;33m\u001b[0m\u001b[0m\n\u001b[0;32m    997\u001b[0m \u001b[1;33m\u001b[0m\u001b[0m\n\u001b[1;32m--> 998\u001b[1;33m             eval_results = self._evaluate(model,\n\u001b[0m\u001b[0;32m    999\u001b[0m                                           \u001b[0mself\u001b[0m\u001b[1;33m.\u001b[0m\u001b[0mval_dataloaders\u001b[0m\u001b[1;33m,\u001b[0m\u001b[1;33m\u001b[0m\u001b[1;33m\u001b[0m\u001b[0m\n\u001b[0;32m   1000\u001b[0m                                           \u001b[0mself\u001b[0m\u001b[1;33m.\u001b[0m\u001b[0mnum_sanity_val_steps\u001b[0m\u001b[1;33m,\u001b[0m\u001b[1;33m\u001b[0m\u001b[1;33m\u001b[0m\u001b[0m\n",
      "\u001b[1;32m~\\Anaconda3\\envs\\cs236781-proj\\lib\\site-packages\\pytorch_lightning\\trainer\\evaluation_loop.py\u001b[0m in \u001b[0;36m_evaluate\u001b[1;34m(self, model, dataloaders, max_batches, test_mode)\u001b[0m\n\u001b[0;32m    275\u001b[0m                         \u001b[0moutput\u001b[0m \u001b[1;33m=\u001b[0m \u001b[0mself\u001b[0m\u001b[1;33m.\u001b[0m\u001b[0mevaluation_forward\u001b[0m\u001b[1;33m(\u001b[0m\u001b[0mmodel\u001b[0m\u001b[1;33m,\u001b[0m \u001b[0mbatch\u001b[0m\u001b[1;33m,\u001b[0m \u001b[0mbatch_idx\u001b[0m\u001b[1;33m,\u001b[0m \u001b[0mdataloader_idx\u001b[0m\u001b[1;33m,\u001b[0m \u001b[0mtest_mode\u001b[0m\u001b[1;33m)\u001b[0m\u001b[1;33m\u001b[0m\u001b[1;33m\u001b[0m\u001b[0m\n\u001b[0;32m    276\u001b[0m                 \u001b[1;32melse\u001b[0m\u001b[1;33m:\u001b[0m\u001b[1;33m\u001b[0m\u001b[1;33m\u001b[0m\u001b[0m\n\u001b[1;32m--> 277\u001b[1;33m                     \u001b[0moutput\u001b[0m \u001b[1;33m=\u001b[0m \u001b[0mself\u001b[0m\u001b[1;33m.\u001b[0m\u001b[0mevaluation_forward\u001b[0m\u001b[1;33m(\u001b[0m\u001b[0mmodel\u001b[0m\u001b[1;33m,\u001b[0m \u001b[0mbatch\u001b[0m\u001b[1;33m,\u001b[0m \u001b[0mbatch_idx\u001b[0m\u001b[1;33m,\u001b[0m \u001b[0mdataloader_idx\u001b[0m\u001b[1;33m,\u001b[0m \u001b[0mtest_mode\u001b[0m\u001b[1;33m)\u001b[0m\u001b[1;33m\u001b[0m\u001b[1;33m\u001b[0m\u001b[0m\n\u001b[0m\u001b[0;32m    278\u001b[0m \u001b[1;33m\u001b[0m\u001b[0m\n\u001b[0;32m    279\u001b[0m                 \u001b[1;31m# on dp / ddp2 might still want to do something with the batch parts\u001b[0m\u001b[1;33m\u001b[0m\u001b[1;33m\u001b[0m\u001b[1;33m\u001b[0m\u001b[0m\n",
      "\u001b[1;32m~\\Anaconda3\\envs\\cs236781-proj\\lib\\site-packages\\pytorch_lightning\\trainer\\evaluation_loop.py\u001b[0m in \u001b[0;36mevaluation_forward\u001b[1;34m(self, model, batch, batch_idx, dataloader_idx, test_mode)\u001b[0m\n\u001b[0;32m    448\u001b[0m             \u001b[0moutput\u001b[0m \u001b[1;33m=\u001b[0m \u001b[0mmodel\u001b[0m\u001b[1;33m.\u001b[0m\u001b[0mtest_step\u001b[0m\u001b[1;33m(\u001b[0m\u001b[1;33m*\u001b[0m\u001b[0margs\u001b[0m\u001b[1;33m)\u001b[0m\u001b[1;33m\u001b[0m\u001b[1;33m\u001b[0m\u001b[0m\n\u001b[0;32m    449\u001b[0m         \u001b[1;32melse\u001b[0m\u001b[1;33m:\u001b[0m\u001b[1;33m\u001b[0m\u001b[1;33m\u001b[0m\u001b[0m\n\u001b[1;32m--> 450\u001b[1;33m             \u001b[0moutput\u001b[0m \u001b[1;33m=\u001b[0m \u001b[0mmodel\u001b[0m\u001b[1;33m.\u001b[0m\u001b[0mvalidation_step\u001b[0m\u001b[1;33m(\u001b[0m\u001b[1;33m*\u001b[0m\u001b[0margs\u001b[0m\u001b[1;33m)\u001b[0m\u001b[1;33m\u001b[0m\u001b[1;33m\u001b[0m\u001b[0m\n\u001b[0m\u001b[0;32m    451\u001b[0m \u001b[1;33m\u001b[0m\u001b[0m\n\u001b[0;32m    452\u001b[0m         \u001b[1;32mreturn\u001b[0m \u001b[0moutput\u001b[0m\u001b[1;33m\u001b[0m\u001b[1;33m\u001b[0m\u001b[0m\n",
      "\u001b[1;32mc:\\users\\roy matza\\torch-scae\\torch_scae_experiments\\boneage\\train.py\u001b[0m in \u001b[0;36mvalidation_step\u001b[1;34m(self, batch, batch_idx)\u001b[0m\n\u001b[0;32m    197\u001b[0m \u001b[1;33m\u001b[0m\u001b[0m\n\u001b[0;32m    198\u001b[0m         \u001b[0mres\u001b[0m \u001b[1;33m=\u001b[0m \u001b[0mself\u001b[0m\u001b[1;33m(\u001b[0m\u001b[0mimage\u001b[0m\u001b[1;33m=\u001b[0m\u001b[0mimage\u001b[0m\u001b[1;33m)\u001b[0m\u001b[1;33m\u001b[0m\u001b[1;33m\u001b[0m\u001b[0m\n\u001b[1;32m--> 199\u001b[1;33m         loss, loss_info = self.scae.loss(res,\n\u001b[0m\u001b[0;32m    200\u001b[0m                                          \u001b[0mreconstruction_target\u001b[0m\u001b[1;33m=\u001b[0m\u001b[0mreconstruction_target\u001b[0m\u001b[1;33m,\u001b[0m\u001b[1;33m\u001b[0m\u001b[1;33m\u001b[0m\u001b[0m\n\u001b[0;32m    201\u001b[0m                                          label=label)\n",
      "\u001b[1;32mc:\\users\\roy matza\\torch-scae\\torch_scae\\stacked_capsule_auto_encoder.py\u001b[0m in \u001b[0;36mloss\u001b[1;34m(self, res, reconstruction_target, label)\u001b[0m\n\u001b[0;32m    225\u001b[0m         \u001b[0mlog\u001b[0m \u001b[1;33m=\u001b[0m \u001b[0mdict\u001b[0m\u001b[1;33m(\u001b[0m\u001b[1;33m)\u001b[0m\u001b[1;33m\u001b[0m\u001b[1;33m\u001b[0m\u001b[0m\n\u001b[0;32m    226\u001b[0m         \u001b[1;31m# image reconstruction likelihood\u001b[0m\u001b[1;33m\u001b[0m\u001b[1;33m\u001b[0m\u001b[1;33m\u001b[0m\u001b[0m\n\u001b[1;32m--> 227\u001b[1;33m         \u001b[0mrec_ll_per_pixel\u001b[0m \u001b[1;33m=\u001b[0m \u001b[0mres\u001b[0m\u001b[1;33m.\u001b[0m\u001b[0mrec\u001b[0m\u001b[1;33m.\u001b[0m\u001b[0mpdf\u001b[0m\u001b[1;33m.\u001b[0m\u001b[0mlog_prob\u001b[0m\u001b[1;33m(\u001b[0m\u001b[0mreconstruction_target\u001b[0m\u001b[1;33m)\u001b[0m\u001b[1;33m\u001b[0m\u001b[1;33m\u001b[0m\u001b[0m\n\u001b[0m\u001b[0;32m    228\u001b[0m         \u001b[0mrec_ll\u001b[0m \u001b[1;33m=\u001b[0m \u001b[0mrec_ll_per_pixel\u001b[0m\u001b[1;33m.\u001b[0m\u001b[0mview\u001b[0m\u001b[1;33m(\u001b[0m\u001b[0mrec_ll_per_pixel\u001b[0m\u001b[1;33m.\u001b[0m\u001b[0mshape\u001b[0m\u001b[1;33m[\u001b[0m\u001b[1;36m0\u001b[0m\u001b[1;33m]\u001b[0m\u001b[1;33m,\u001b[0m \u001b[1;33m-\u001b[0m\u001b[1;36m1\u001b[0m\u001b[1;33m)\u001b[0m\u001b[1;33m.\u001b[0m\u001b[0msum\u001b[0m\u001b[1;33m(\u001b[0m\u001b[1;33m-\u001b[0m\u001b[1;36m1\u001b[0m\u001b[1;33m)\u001b[0m\u001b[1;33m.\u001b[0m\u001b[0mmean\u001b[0m\u001b[1;33m(\u001b[0m\u001b[1;33m)\u001b[0m\u001b[1;33m\u001b[0m\u001b[1;33m\u001b[0m\u001b[0m\n\u001b[0;32m    229\u001b[0m         \u001b[0mloss\u001b[0m \u001b[1;33m=\u001b[0m \u001b[1;33m-\u001b[0m\u001b[0mrec_ll\u001b[0m\u001b[1;33m\u001b[0m\u001b[1;33m\u001b[0m\u001b[0m\n",
      "\u001b[1;32mc:\\users\\roy matza\\torch-scae\\torch_scae\\distributions.py\u001b[0m in \u001b[0;36mlog_prob\u001b[1;34m(self, x)\u001b[0m\n\u001b[0;32m     41\u001b[0m     \u001b[1;32mdef\u001b[0m \u001b[0mlog_prob\u001b[0m\u001b[1;33m(\u001b[0m\u001b[0mself\u001b[0m\u001b[1;33m,\u001b[0m \u001b[0mx\u001b[0m\u001b[1;33m)\u001b[0m\u001b[1;33m:\u001b[0m  \u001b[1;31m# (B, ...)\u001b[0m\u001b[1;33m\u001b[0m\u001b[1;33m\u001b[0m\u001b[0m\n\u001b[0;32m     42\u001b[0m         \u001b[0mx\u001b[0m \u001b[1;33m=\u001b[0m \u001b[0mx\u001b[0m\u001b[1;33m.\u001b[0m\u001b[0munsqueeze\u001b[0m\u001b[1;33m(\u001b[0m\u001b[1;36m1\u001b[0m\u001b[1;33m)\u001b[0m  \u001b[1;31m# (B, 1, ...)\u001b[0m\u001b[1;33m\u001b[0m\u001b[1;33m\u001b[0m\u001b[0m\n\u001b[1;32m---> 43\u001b[1;33m         \u001b[0mlp\u001b[0m \u001b[1;33m=\u001b[0m \u001b[0mself\u001b[0m\u001b[1;33m.\u001b[0m\u001b[0m_component_log_prob\u001b[0m\u001b[1;33m(\u001b[0m\u001b[0mx\u001b[0m\u001b[1;33m)\u001b[0m  \u001b[1;31m# (B, K, ...)\u001b[0m\u001b[1;33m\u001b[0m\u001b[1;33m\u001b[0m\u001b[0m\n\u001b[0m\u001b[0;32m     44\u001b[0m         \u001b[1;32mreturn\u001b[0m \u001b[0mtorch\u001b[0m\u001b[1;33m.\u001b[0m\u001b[0mlogsumexp\u001b[0m\u001b[1;33m(\u001b[0m\u001b[0mlp\u001b[0m \u001b[1;33m+\u001b[0m \u001b[0mself\u001b[0m\u001b[1;33m.\u001b[0m\u001b[0mmixing_log_prob\u001b[0m\u001b[1;33m(\u001b[0m\u001b[1;33m)\u001b[0m\u001b[1;33m,\u001b[0m \u001b[1;36m1\u001b[0m\u001b[1;33m)\u001b[0m  \u001b[1;31m# (B, ...)\u001b[0m\u001b[1;33m\u001b[0m\u001b[1;33m\u001b[0m\u001b[0m\n\u001b[0;32m     45\u001b[0m \u001b[1;33m\u001b[0m\u001b[0m\n",
      "\u001b[1;32mc:\\users\\roy matza\\torch-scae\\torch_scae\\distributions.py\u001b[0m in \u001b[0;36m_component_log_prob\u001b[1;34m(self, x)\u001b[0m\n\u001b[0;32m     45\u001b[0m \u001b[1;33m\u001b[0m\u001b[0m\n\u001b[0;32m     46\u001b[0m     \u001b[1;32mdef\u001b[0m \u001b[0m_component_log_prob\u001b[0m\u001b[1;33m(\u001b[0m\u001b[0mself\u001b[0m\u001b[1;33m,\u001b[0m \u001b[0mx\u001b[0m\u001b[1;33m)\u001b[0m\u001b[1;33m:\u001b[0m\u001b[1;33m\u001b[0m\u001b[1;33m\u001b[0m\u001b[0m\n\u001b[1;32m---> 47\u001b[1;33m         \u001b[0mlp\u001b[0m \u001b[1;33m=\u001b[0m \u001b[0mself\u001b[0m\u001b[1;33m.\u001b[0m\u001b[0mdist\u001b[0m\u001b[1;33m.\u001b[0m\u001b[0mlog_prob\u001b[0m\u001b[1;33m(\u001b[0m\u001b[0mx\u001b[0m\u001b[1;33m)\u001b[0m\u001b[1;33m\u001b[0m\u001b[1;33m\u001b[0m\u001b[0m\n\u001b[0m\u001b[0;32m     48\u001b[0m         \u001b[1;32mreturn\u001b[0m \u001b[0mlp\u001b[0m\u001b[1;33m\u001b[0m\u001b[1;33m\u001b[0m\u001b[0m\n\u001b[0;32m     49\u001b[0m \u001b[1;33m\u001b[0m\u001b[0m\n",
      "\u001b[1;32m~\\Anaconda3\\envs\\cs236781-proj\\lib\\site-packages\\torch\\distributions\\normal.py\u001b[0m in \u001b[0;36mlog_prob\u001b[1;34m(self, value)\u001b[0m\n\u001b[0;32m     74\u001b[0m         \u001b[0mvar\u001b[0m \u001b[1;33m=\u001b[0m \u001b[1;33m(\u001b[0m\u001b[0mself\u001b[0m\u001b[1;33m.\u001b[0m\u001b[0mscale\u001b[0m \u001b[1;33m**\u001b[0m \u001b[1;36m2\u001b[0m\u001b[1;33m)\u001b[0m\u001b[1;33m\u001b[0m\u001b[1;33m\u001b[0m\u001b[0m\n\u001b[0;32m     75\u001b[0m         \u001b[0mlog_scale\u001b[0m \u001b[1;33m=\u001b[0m \u001b[0mmath\u001b[0m\u001b[1;33m.\u001b[0m\u001b[0mlog\u001b[0m\u001b[1;33m(\u001b[0m\u001b[0mself\u001b[0m\u001b[1;33m.\u001b[0m\u001b[0mscale\u001b[0m\u001b[1;33m)\u001b[0m \u001b[1;32mif\u001b[0m \u001b[0misinstance\u001b[0m\u001b[1;33m(\u001b[0m\u001b[0mself\u001b[0m\u001b[1;33m.\u001b[0m\u001b[0mscale\u001b[0m\u001b[1;33m,\u001b[0m \u001b[0mNumber\u001b[0m\u001b[1;33m)\u001b[0m \u001b[1;32melse\u001b[0m \u001b[0mself\u001b[0m\u001b[1;33m.\u001b[0m\u001b[0mscale\u001b[0m\u001b[1;33m.\u001b[0m\u001b[0mlog\u001b[0m\u001b[1;33m(\u001b[0m\u001b[1;33m)\u001b[0m\u001b[1;33m\u001b[0m\u001b[1;33m\u001b[0m\u001b[0m\n\u001b[1;32m---> 76\u001b[1;33m         \u001b[1;32mreturn\u001b[0m \u001b[1;33m-\u001b[0m\u001b[1;33m(\u001b[0m\u001b[1;33m(\u001b[0m\u001b[0mvalue\u001b[0m \u001b[1;33m-\u001b[0m \u001b[0mself\u001b[0m\u001b[1;33m.\u001b[0m\u001b[0mloc\u001b[0m\u001b[1;33m)\u001b[0m \u001b[1;33m**\u001b[0m \u001b[1;36m2\u001b[0m\u001b[1;33m)\u001b[0m \u001b[1;33m/\u001b[0m \u001b[1;33m(\u001b[0m\u001b[1;36m2\u001b[0m \u001b[1;33m*\u001b[0m \u001b[0mvar\u001b[0m\u001b[1;33m)\u001b[0m \u001b[1;33m-\u001b[0m \u001b[0mlog_scale\u001b[0m \u001b[1;33m-\u001b[0m \u001b[0mmath\u001b[0m\u001b[1;33m.\u001b[0m\u001b[0mlog\u001b[0m\u001b[1;33m(\u001b[0m\u001b[0mmath\u001b[0m\u001b[1;33m.\u001b[0m\u001b[0msqrt\u001b[0m\u001b[1;33m(\u001b[0m\u001b[1;36m2\u001b[0m \u001b[1;33m*\u001b[0m \u001b[0mmath\u001b[0m\u001b[1;33m.\u001b[0m\u001b[0mpi\u001b[0m\u001b[1;33m)\u001b[0m\u001b[1;33m)\u001b[0m\u001b[1;33m\u001b[0m\u001b[1;33m\u001b[0m\u001b[0m\n\u001b[0m\u001b[0;32m     77\u001b[0m \u001b[1;33m\u001b[0m\u001b[0m\n\u001b[0;32m     78\u001b[0m     \u001b[1;32mdef\u001b[0m \u001b[0mcdf\u001b[0m\u001b[1;33m(\u001b[0m\u001b[0mself\u001b[0m\u001b[1;33m,\u001b[0m \u001b[0mvalue\u001b[0m\u001b[1;33m)\u001b[0m\u001b[1;33m:\u001b[0m\u001b[1;33m\u001b[0m\u001b[1;33m\u001b[0m\u001b[0m\n",
      "\u001b[1;31mRuntimeError\u001b[0m: CUDA out of memory. Tried to allocate 372.00 MiB (GPU 0; 4.00 GiB total capacity; 2.10 GiB already allocated; 238.35 MiB free; 2.70 GiB reserved in total by PyTorch)"
     ]
    }
   ],
   "source": [
    "torch.cuda.reset_max_memory_cached()\n",
    "torch.cuda.reset_max_memory_allocated()\n",
    "torch.cuda.reset_accumulated_memory_stats()\n",
    "\n",
    "train(model_params, **training_params)"
   ]
  },
  {
   "cell_type": "code",
   "execution_count": null,
   "metadata": {
    "colab": {},
    "colab_type": "code",
    "id": "qJPnbxvvDRnS"
   },
   "outputs": [],
   "source": [
    "# resume training\n",
    "training_params.update(\n",
    "    max_epochs=200,\n",
    "    resume_from_checkpoint= '/content/lightning_logs/version_0/checkpoints/epoch=99.ckpt')\n",
    ")\n",
    "train(model_params, **training_params)"
   ]
  },
  {
   "cell_type": "code",
   "execution_count": null,
   "metadata": {
    "colab": {},
    "colab_type": "code",
    "id": "ybABn0XqjbcW"
   },
   "outputs": [],
   "source": []
  }
 ],
 "metadata": {
  "accelerator": "GPU",
  "colab": {
   "collapsed_sections": [],
   "name": "torch_scae_lightning.ipynb",
   "provenance": [],
   "toc_visible": true
  },
  "kernelspec": {
   "display_name": "Python 3",
   "language": "python",
   "name": "python3"
  },
  "language_info": {
   "codemirror_mode": {
    "name": "ipython",
    "version": 3
   },
   "file_extension": ".py",
   "mimetype": "text/x-python",
   "name": "python",
   "nbconvert_exporter": "python",
   "pygments_lexer": "ipython3",
   "version": "3.8.5"
  }
 },
 "nbformat": 4,
 "nbformat_minor": 4
}
